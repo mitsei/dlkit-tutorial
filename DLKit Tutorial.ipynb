{
 "cells": [
  {
   "cell_type": "markdown",
   "metadata": {
    "collapsed": true
   },
   "source": [
    "# DLKit Overview\n",
    "\n",
    "DLKit is a Python implementation of the OSIDs (www.osid.org).\n",
    "\n",
    "Every service has a catalog object, which houses / contains additional objects. These catalogs help control authorization to the contained objects, and can be arranged hierarchically (with authorizations flowing down).\n",
    "\n",
    "             MIT\n",
    "            /   \\\n",
    "           /     \\\n",
    "       Physics   Math  \n",
    "\n",
    "Someone with access to all of MIT could see both Math and Physics materials, but folks in Physics may not be able to see Math materials.\n",
    "\n",
    "Let's start with a simple example and dig more in depth."
   ]
  },
  {
   "cell_type": "markdown",
   "metadata": {},
   "source": [
    "## Assessment Service\n",
    "\n",
    "In the Assessment Service, the catalog is called a `bank`. `banks` contain other objects, called `item`, `assessment`, `assessmentOffered`, `assessmentTaken`, etc. We'll start with `item` and `assessment`.\n",
    "\n",
    "To being with, you access each service through a `manager`. For example, an `AssessmentManager` gives you access to the various `bank` and `item` methods.\n",
    "\n",
    "In order to get a `manager`, we go through the `runtime` -- in this tutorial, the `dlkit_edx` runtime. We will simulate a user and a test web request, to pass along. This username is automatically included with many types of data, such as when taking assessments."
   ]
  },
  {
   "cell_type": "code",
   "execution_count": 3,
   "metadata": {
    "collapsed": false
   },
   "outputs": [
    {
     "name": "stdout",
     "output_type": "stream",
     "text": [
      "<dlkit.services.assessment.AssessmentManager object at 0x10f04aa10>\n"
     ]
    }
   ],
   "source": [
    "from dlkit_edx import PROXY_SESSION, RUNTIME\n",
    "from dlkit_edx.proxy_example import TestRequest\n",
    "\n",
    "condition = PROXY_SESSION.get_proxy_condition()\n",
    "dummy_request = TestRequest(username='tutorial_user@school.edu',\n",
    "                            authenticated=True)\n",
    "condition.set_http_request(dummy_request)\n",
    "proxy = PROXY_SESSION.get_proxy(condition)\n",
    "am = RUNTIME.get_service_manager('ASSESSMENT',\n",
    "                                  proxy=proxy)\n",
    "\n",
    "print am"
   ]
  },
  {
   "cell_type": "markdown",
   "metadata": {},
   "source": [
    "**Banks**\n",
    "\n",
    "Now that we have an `AssessmentManager`, we can see what `banks` exist in the system. Calling for \"lists\" of things returns a Python generator, and we can check the number of results with `.available()`.\n"
   ]
  },
  {
   "cell_type": "code",
   "execution_count": 4,
   "metadata": {
    "collapsed": false,
    "scrolled": true
   },
   "outputs": [
    {
     "name": "stdout",
     "output_type": "stream",
     "text": [
      "<dlkit.services.assessment.BankList object at 0x10e781490>\n",
      "0\n"
     ]
    }
   ],
   "source": [
    "print am.banks\n",
    "print am.banks.available()"
   ]
  },
  {
   "cell_type": "markdown",
   "metadata": {},
   "source": [
    "No banks!! Okay, let's create one. In `DLKit`, CRUD operations are done with `forms`. So let's get a `form` to create a new assessment `bank`, and assign it a `displayName` and `description` that we'll recognize later.\n",
    "\n",
    "Notice that in the `get_bank_form_for_create()` method, we pass an empty list as an argument. This can be used to extend the base functionality of the `bank`, via record extensions. That is a more advanced feature we'll touch on later."
   ]
  },
  {
   "cell_type": "code",
   "execution_count": 5,
   "metadata": {
    "collapsed": false
   },
   "outputs": [
    {
     "name": "stdout",
     "output_type": "stream",
     "text": [
      "<dlkit.services.assessment.Bank object at 0x10f04a410>\n",
      "MyBank\n",
      "For learning about DLKit\n",
      "assessment.Bank%3A57fe54dccdfc5c3a0bc23b47%40ODL.MIT.EDU\n"
     ]
    }
   ],
   "source": [
    "form = am.get_bank_form_for_create([])\n",
    "form.display_name = \"MyBank\"\n",
    "form.description = \"For learning about DLKit\"\n",
    "bank = am.create_bank(form)\n",
    "print bank\n",
    "print bank.display_name.text\n",
    "print bank.description.text\n",
    "print str(bank.ident)"
   ]
  },
  {
   "cell_type": "markdown",
   "metadata": {},
   "source": [
    "You can see that our new `bank` has some attributes -- some that we assigned (`displayName` and `description`, and others that were created by `DLKit`, like `ident`). `displayName` and `description` are actually objects themselves, and can also contain language, format, and script data, which is why we call `display_name.text` and `description.text` above."
   ]
  },
  {
   "cell_type": "markdown",
   "metadata": {},
   "source": [
    "##Items\n",
    "An `item` is what you might think of as a basic assessment question with the associated answers (right or wrong). There are many types of `item`s, including multiple choice, fill in the blank, short answer, etc."
   ]
  },
  {
   "cell_type": "code",
   "execution_count": null,
   "metadata": {
    "collapsed": true
   },
   "outputs": [],
   "source": []
  }
 ],
 "metadata": {
  "kernelspec": {
   "display_name": "Python 2",
   "language": "python",
   "name": "python2"
  },
  "language_info": {
   "codemirror_mode": {
    "name": "ipython",
    "version": 2
   },
   "file_extension": ".py",
   "mimetype": "text/x-python",
   "name": "python",
   "nbconvert_exporter": "python",
   "pygments_lexer": "ipython2",
   "version": "2.7.10"
  }
 },
 "nbformat": 4,
 "nbformat_minor": 1
}
