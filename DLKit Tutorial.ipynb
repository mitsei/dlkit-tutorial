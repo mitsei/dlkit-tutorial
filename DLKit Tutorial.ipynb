{
 "cells": [
  {
   "cell_type": "markdown",
   "metadata": {
    "collapsed": true
   },
   "source": [
    "# DLKit Overview\n",
    "\n",
    "DLKit is a Python implementation of the OSIDs (www.osid.org).\n",
    "\n",
    "Every service has a catalog object, which houses / contains additional objects. These catalogs help control authorization to the contained objects, and can be arranged hierarchically (with authorizations flowing down).\n",
    "\n",
    "             MIT\n",
    "            /   \\\n",
    "           /     \\\n",
    "       Physics   Math  \n",
    "\n",
    "Someone with access to all of MIT could see both Math and Physics materials, but folks in Physics may not be able to see Math materials.\n",
    "\n",
    "Let's start with a simple example and dig more in depth."
   ]
  },
  {
   "cell_type": "markdown",
   "metadata": {},
   "source": [
    "## Assessment Service\n",
    "\n",
    "In the Assessment Service, the catalog is called a `bank`. `banks` contain other objects, called `item`, `assessment`, `assessmentOffered`, `assessmentTaken`, etc. We'll start with `item` and `assessment`.\n",
    "\n",
    "To being with, you access each service through a `manager`. For example, an `AssessmentManager` gives you access to the various `bank` and `item` methods.\n",
    "\n",
    "In order to get a `manager`, we go through the `runtime` -- in this tutorial, the `dlkit_edx` runtime. We will simulate a user and a test web request, to pass along. This username is automatically included with many types of data, such as when taking assessments."
   ]
  },
  {
   "cell_type": "code",
   "execution_count": 3,
   "metadata": {
    "collapsed": false
   },
   "outputs": [
    {
     "name": "stdout",
     "output_type": "stream",
     "text": [
      "<dlkit.services.assessment.AssessmentManager object at 0x10f04aa10>\n"
     ]
    }
   ],
   "source": [
    "from dlkit_edx import PROXY_SESSION, RUNTIME\n",
    "from dlkit_edx.proxy_example import TestRequest\n",
    "\n",
    "condition = PROXY_SESSION.get_proxy_condition()\n",
    "dummy_request = TestRequest(username='tutorial_user@school.edu',\n",
    "                            authenticated=True)\n",
    "condition.set_http_request(dummy_request)\n",
    "proxy = PROXY_SESSION.get_proxy(condition)\n",
    "am = RUNTIME.get_service_manager('ASSESSMENT',\n",
    "                                  proxy=proxy)\n",
    "\n",
    "print am"
   ]
  },
  {
   "cell_type": "markdown",
   "metadata": {},
   "source": [
    "**Banks**\n",
    "\n",
    "Now that we have an `AssessmentManager`, we can see what `banks` exist in the system. Calling for \"lists\" of things returns a \"thing list\", like a `BankList` (a Python generator), and we can check the number of results with `.available()`.\n"
   ]
  },
  {
   "cell_type": "code",
   "execution_count": 4,
   "metadata": {
    "collapsed": false,
    "scrolled": true
   },
   "outputs": [
    {
     "name": "stdout",
     "output_type": "stream",
     "text": [
      "<dlkit.services.assessment.BankList object at 0x10e781490>\n",
      "0\n"
     ]
    }
   ],
   "source": [
    "print am.banks\n",
    "print am.banks.available()"
   ]
  },
  {
   "cell_type": "markdown",
   "metadata": {},
   "source": [
    "No banks!! Okay, let's create one. In `DLKit`, CRUD operations are done with `forms`. So let's get a `form` to create a new assessment `bank`, and assign it a `displayName` and `description` that we'll recognize later.\n",
    "\n",
    "Notice that in the `get_bank_form_for_create()` method, we pass an empty list as an argument. This can be used to extend the base functionality of the `bank`, via record extensions. That is a more advanced feature we'll touch on later."
   ]
  },
  {
   "cell_type": "code",
   "execution_count": 5,
   "metadata": {
    "collapsed": false
   },
   "outputs": [
    {
     "name": "stdout",
     "output_type": "stream",
     "text": [
      "<dlkit.services.assessment.Bank object at 0x10f04a410>\n",
      "MyBank\n",
      "For learning about DLKit\n",
      "assessment.Bank%3A57fe54dccdfc5c3a0bc23b47%40ODL.MIT.EDU\n"
     ]
    }
   ],
   "source": [
    "form = am.get_bank_form_for_create([])\n",
    "form.display_name = \"MyBank\"\n",
    "form.description = \"For learning about DLKit\"\n",
    "bank = am.create_bank(form)\n",
    "print bank\n",
    "print bank.display_name.text\n",
    "print bank.description.text\n",
    "print str(bank.ident)"
   ]
  },
  {
   "cell_type": "markdown",
   "metadata": {},
   "source": [
    "You can see that our new `bank` has some attributes -- some that we assigned (`displayName` and `description`, and others that were created by `DLKit`, like `ident`). `displayName` and `description` are actually objects themselves, and can also contain language, format, and script data, which is why we call `display_name.text` and `description.text` above."
   ]
  },
  {
   "cell_type": "markdown",
   "metadata": {},
   "source": [
    "**Items**\n",
    "\n",
    "Now that we have a `bank`, we can create assessment `items` in it. \n",
    "\n",
    "An `item` is what you might think of as a basic assessment question with the associated answers (right or wrong). There are many types of `item`s, including multiple choice, fill in the blank, short answer, etc.\n",
    "\n",
    "Again, we can inspect to see if any exist."
   ]
  },
  {
   "cell_type": "code",
   "execution_count": 7,
   "metadata": {
    "collapsed": false
   },
   "outputs": [
    {
     "name": "stdout",
     "output_type": "stream",
     "text": [
      "<dlkit.mongo.assessment.objects.ItemList object at 0x10f27d8d0>\n",
      "0\n"
     ]
    }
   ],
   "source": [
    "print bank.items\n",
    "print bank.items.available()"
   ]
  },
  {
   "cell_type": "markdown",
   "metadata": {},
   "source": [
    "To create a new item, we'll grab a form. In the `OSIDS`, since `items` are not defined beyond a question and answer, we'll need to pass along a record extension, so give the item some functionality. This requires some internal knowledge about `DLKit`, so for now well just use a simple multiple choice record. "
   ]
  },
  {
   "cell_type": "code",
   "execution_count": 12,
   "metadata": {
    "collapsed": false
   },
   "outputs": [],
   "source": [
    "from dlkit_edx.primitives import Type\n",
    "from records.registry import ITEM_RECORD_TYPES\n",
    "MULTIPLE_CHOICE_ITEM = Type(**ITEM_RECORD_TYPES['multi-choice'])\n",
    "WRONG_ANSWER_ITEM = Type(**ITEM_RECORD_TYPES['wrong-answer'])\n",
    "\n",
    "form = bank.get_item_form_for_create([MULTIPLE_CHOICE_ITEM, WRONG_ANSWER_ITEM])\n",
    "form.display_name = \"Basic addition question\"\n",
    "form.description = \"addition question with fruit\"\n",
    "item = bank.create_item(form)"
   ]
  },
  {
   "cell_type": "markdown",
   "metadata": {},
   "source": [
    "But where's the question?? We'll create that separately, with its own records. Recall:\n",
    "\n",
    "        Item\n",
    "          |--Question\n",
    "          |--Answers\n",
    "          \n",
    "Since `questions` are distinct from `items`, students can be sent only the `question` object, without any danger of `answers` leaking. Note that the `question` `form` requires an extra `itemId` argument."
   ]
  },
  {
   "cell_type": "code",
   "execution_count": 13,
   "metadata": {
    "collapsed": false
   },
   "outputs": [
    {
     "name": "stdout",
     "output_type": "stream",
     "text": [
      "[{'text': 'blue', 'id': '57fe61edcdfc5c3a0bc23b49', 'name': ''}, {'text': 'red', 'id': '57fe61edcdfc5c3a0bc23b4a', 'name': ''}, {'text': 'yellow', 'id': '57fe61edcdfc5c3a0bc23b4b', 'name': ''}]\n"
     ]
    }
   ],
   "source": [
    "from records.registry import QUESTION_RECORD_TYPES\n",
    "MULTIPLE_CHOICE_QUESTION = Type(**QUESTION_RECORD_TYPES['multi-choice-text'])\n",
    "\n",
    "form = bank.get_question_form_for_create(item.ident, [MULTIPLE_CHOICE_QUESTION])\n",
    "form.set_text(\"Which color do you prefer?\")\n",
    "form.add_choice(\"blue\")\n",
    "form.add_choice(\"red\")\n",
    "form.add_choice(\"yellow\")\n",
    "question = bank.create_question(form)\n",
    "\n",
    "print question.get_choices()"
   ]
  },
  {
   "cell_type": "markdown",
   "metadata": {},
   "source": [
    "The `item` also has a handle to its own `question`."
   ]
  },
  {
   "cell_type": "code",
   "execution_count": 14,
   "metadata": {
    "collapsed": false
   },
   "outputs": [
    {
     "ename": "TypeError",
     "evalue": "'NoneType' object has no attribute '__getitem__'",
     "output_type": "error",
     "traceback": [
      "\u001b[0;31m---------------------------------------------------------------------------\u001b[0m",
      "\u001b[0;31mTypeError\u001b[0m                                 Traceback (most recent call last)",
      "\u001b[0;32m<ipython-input-14-8a6fa2760d7b>\u001b[0m in \u001b[0;36m<module>\u001b[0;34m()\u001b[0m\n\u001b[0;32m----> 1\u001b[0;31m \u001b[0;32mprint\u001b[0m \u001b[0mitem\u001b[0m\u001b[0;34m.\u001b[0m\u001b[0mget_question\u001b[0m\u001b[0;34m(\u001b[0m\u001b[0;34m)\u001b[0m\u001b[0;34m\u001b[0m\u001b[0m\n\u001b[0m",
      "\u001b[0;32m/Users/cjshaw/Documents/Projects/CLIx/dlkit-tutorial/dlkit/mongo/assessment/objects.py\u001b[0m in \u001b[0;36mget_question\u001b[0;34m(self)\u001b[0m\n\u001b[1;32m    442\u001b[0m         return Question(osid_object_map=self._my_map['question'],\n\u001b[1;32m    443\u001b[0m                         \u001b[0mruntime\u001b[0m\u001b[0;34m=\u001b[0m\u001b[0mself\u001b[0m\u001b[0;34m.\u001b[0m\u001b[0m_runtime\u001b[0m\u001b[0;34m,\u001b[0m\u001b[0;34m\u001b[0m\u001b[0m\n\u001b[0;32m--> 444\u001b[0;31m                         proxy=self._proxy)\n\u001b[0m\u001b[1;32m    445\u001b[0m \u001b[0;34m\u001b[0m\u001b[0m\n\u001b[1;32m    446\u001b[0m     \u001b[0mquestion\u001b[0m \u001b[0;34m=\u001b[0m \u001b[0mproperty\u001b[0m\u001b[0;34m(\u001b[0m\u001b[0mfget\u001b[0m\u001b[0;34m=\u001b[0m\u001b[0mget_question\u001b[0m\u001b[0;34m)\u001b[0m\u001b[0;34m\u001b[0m\u001b[0m\n",
      "\u001b[0;32m/Users/cjshaw/Documents/Projects/CLIx/dlkit-tutorial/dlkit/mongo/assessment/objects.py\u001b[0m in \u001b[0;36m__init__\u001b[0;34m(self, **kwargs)\u001b[0m\n\u001b[1;32m     75\u001b[0m \u001b[0;34m\u001b[0m\u001b[0m\n\u001b[1;32m     76\u001b[0m     \u001b[0;32mdef\u001b[0m \u001b[0m__init__\u001b[0m\u001b[0;34m(\u001b[0m\u001b[0mself\u001b[0m\u001b[0;34m,\u001b[0m \u001b[0;34m**\u001b[0m\u001b[0mkwargs\u001b[0m\u001b[0;34m)\u001b[0m\u001b[0;34m:\u001b[0m\u001b[0;34m\u001b[0m\u001b[0m\n\u001b[0;32m---> 77\u001b[0;31m         \u001b[0mosid_objects\u001b[0m\u001b[0;34m.\u001b[0m\u001b[0mOsidObject\u001b[0m\u001b[0;34m.\u001b[0m\u001b[0m__init__\u001b[0m\u001b[0;34m(\u001b[0m\u001b[0mself\u001b[0m\u001b[0;34m,\u001b[0m \u001b[0mobject_name\u001b[0m\u001b[0;34m=\u001b[0m\u001b[0;34m'QUESTION'\u001b[0m\u001b[0;34m,\u001b[0m \u001b[0;34m**\u001b[0m\u001b[0mkwargs\u001b[0m\u001b[0;34m)\u001b[0m\u001b[0;34m\u001b[0m\u001b[0m\n\u001b[0m\u001b[1;32m     78\u001b[0m         \u001b[0mself\u001b[0m\u001b[0;34m.\u001b[0m\u001b[0m_catalog_name\u001b[0m \u001b[0;34m=\u001b[0m \u001b[0;34m'bank'\u001b[0m\u001b[0;34m\u001b[0m\u001b[0m\n\u001b[1;32m     79\u001b[0m         \u001b[0;32mif\u001b[0m \u001b[0;34m'item_id'\u001b[0m \u001b[0;32min\u001b[0m \u001b[0mkwargs\u001b[0m\u001b[0;34m:\u001b[0m\u001b[0;34m\u001b[0m\u001b[0m\n",
      "\u001b[0;32m/Users/cjshaw/Documents/Projects/CLIx/dlkit-tutorial/dlkit/mongo/osid/objects.py\u001b[0m in \u001b[0;36m__init__\u001b[0;34m(self, osid_object_map, runtime, **kwargs)\u001b[0m\n\u001b[1;32m    114\u001b[0m         \u001b[0mosid_markers\u001b[0m\u001b[0;34m.\u001b[0m\u001b[0mExtensible\u001b[0m\u001b[0;34m.\u001b[0m\u001b[0m__init__\u001b[0m\u001b[0;34m(\u001b[0m\u001b[0mself\u001b[0m\u001b[0;34m,\u001b[0m \u001b[0mruntime\u001b[0m\u001b[0;34m=\u001b[0m\u001b[0mruntime\u001b[0m\u001b[0;34m,\u001b[0m \u001b[0;34m**\u001b[0m\u001b[0mkwargs\u001b[0m\u001b[0;34m)\u001b[0m\u001b[0;34m\u001b[0m\u001b[0m\n\u001b[1;32m    115\u001b[0m         \u001b[0mself\u001b[0m\u001b[0;34m.\u001b[0m\u001b[0m_my_map\u001b[0m \u001b[0;34m=\u001b[0m \u001b[0mosid_object_map\u001b[0m\u001b[0;34m\u001b[0m\u001b[0m\n\u001b[0;32m--> 116\u001b[0;31m         \u001b[0mself\u001b[0m\u001b[0;34m.\u001b[0m\u001b[0m_load_records\u001b[0m\u001b[0;34m(\u001b[0m\u001b[0mosid_object_map\u001b[0m\u001b[0;34m[\u001b[0m\u001b[0;34m'recordTypeIds'\u001b[0m\u001b[0;34m]\u001b[0m\u001b[0;34m)\u001b[0m\u001b[0;34m\u001b[0m\u001b[0m\n\u001b[0m\u001b[1;32m    117\u001b[0m \u001b[0;34m\u001b[0m\u001b[0m\n\u001b[1;32m    118\u001b[0m     \u001b[0;32mdef\u001b[0m \u001b[0mget_object_map\u001b[0m\u001b[0;34m(\u001b[0m\u001b[0mself\u001b[0m\u001b[0;34m,\u001b[0m \u001b[0mobj_map\u001b[0m\u001b[0;34m=\u001b[0m\u001b[0mNone\u001b[0m\u001b[0;34m)\u001b[0m\u001b[0;34m:\u001b[0m\u001b[0;34m\u001b[0m\u001b[0m\n",
      "\u001b[0;31mTypeError\u001b[0m: 'NoneType' object has no attribute '__getitem__'"
     ]
    }
   ],
   "source": [
    "print item.get_question()"
   ]
  },
  {
   "cell_type": "markdown",
   "metadata": {},
   "source": [
    "What?!?! Oh, wait ... because the `item` object we have was initialized before the `question` was actually created, we need to re-grab that `item` to get it in the \"newest\" state."
   ]
  },
  {
   "cell_type": "code",
   "execution_count": 16,
   "metadata": {
    "collapsed": false
   },
   "outputs": [
    {
     "name": "stdout",
     "output_type": "stream",
     "text": [
      "<dlkit.mongo.assessment.objects.Question object at 0x10d3055d0>\n",
      "[{u'text': u'blue', u'id': u'57fe61edcdfc5c3a0bc23b49', u'name': u''}, {u'text': u'red', u'id': u'57fe61edcdfc5c3a0bc23b4a', u'name': u''}, {u'text': u'yellow', u'id': u'57fe61edcdfc5c3a0bc23b4b', u'name': u''}]\n"
     ]
    }
   ],
   "source": [
    "item = bank.get_item(item.ident)\n",
    "print item.get_question()\n",
    "print item.get_question().get_choices()"
   ]
  },
  {
   "cell_type": "markdown",
   "metadata": {},
   "source": [
    "We can also set up wrong / right `answers`, to be used in evaluating the \"correctness\" of the response. We indicate the type of `answer` with the `genusTypeId` property."
   ]
  },
  {
   "cell_type": "code",
   "execution_count": 25,
   "metadata": {
    "collapsed": false
   },
   "outputs": [
    {
     "name": "stdout",
     "output_type": "stream",
     "text": [
      "done creating answers\n"
     ]
    }
   ],
   "source": [
    "from records.registry import ANSWER_GENUS_TYPES, ANSWER_RECORD_TYPES\n",
    "MULTIPLE_CHOICE_ANSWER = Type(**ANSWER_RECORD_TYPES['multi-choice'])\n",
    "RIGHT_ANSWER = Type(**ANSWER_GENUS_TYPES['right-answer'])\n",
    "WRONG_ANSWER = Type(**ANSWER_GENUS_TYPES['wrong-answer'])\n",
    "\n",
    "form = bank.get_answer_form_for_create(item.ident, [MULTIPLE_CHOICE_ANSWER])\n",
    "form.set_genus_type(RIGHT_ANSWER)\n",
    "# We'll just set \"blue\" as the right answer, arbitrarily\n",
    "form.add_choice_id('57fe61edcdfc5c3a0bc23b49')\n",
    "answer1 = bank.create_answer(form)\n",
    "\n",
    "form = bank.get_answer_form_for_create(item.ident, [MULTIPLE_CHOICE_ANSWER])\n",
    "form.set_genus_type(WRONG_ANSWER)\n",
    "# and \"yellow\" as the wrong answer\n",
    "form.add_choice_id('57fe61edcdfc5c3a0bc23b4b')\n",
    "answer2 = bank.create_answer(form)\n",
    "print \"done creating answers\""
   ]
  },
  {
   "cell_type": "markdown",
   "metadata": {},
   "source": [
    "Now we can find the `item` `answers` (if you run the above block multiple times, you'll get a varying number of `answer` elements."
   ]
  },
  {
   "cell_type": "code",
   "execution_count": 26,
   "metadata": {
    "collapsed": false
   },
   "outputs": [
    {
     "name": "stdout",
     "output_type": "stream",
     "text": [
      "5\n",
      "[{u'displayName': {u'text': u'', u'languageTypeId': '639-2%3AENG%40ISO', u'scriptTypeId': '15924%3ALATN%40ISO', u'formatTypeId': u'TextFormats%3APLAIN%40okapia.net'}, u'description': {u'text': u'', u'languageTypeId': '639-2%3AENG%40ISO', u'scriptTypeId': '15924%3ALATN%40ISO', u'formatTypeId': u'TextFormats%3APLAIN%40okapia.net'}, u'recordTypeIds': [u'answer-record-type%3Amulti-choice%40ODL.MIT.EDU'], 'bankId': u'assessment.Bank%3A57fe54dccdfc5c3a0bc23b47%40ODL.MIT.EDU', u'choiceIds': [u'57fe61edcdfc5c3a0bc23b49'], u'genusTypeId': 'answer-type%3Aright-answer%40ODL.MIT.EDU', u'assignedBankIds': [u'assessment.Bank%3A57fe54dccdfc5c3a0bc23b47%40ODL.MIT.EDU'], 'type': 'Answer', 'id': 'assessment.Answer%3A57fe6605cdfc5c3a0bc23b4c%40ODL.MIT.EDU'}, {u'displayName': {u'text': u'', u'languageTypeId': '639-2%3AENG%40ISO', u'scriptTypeId': '15924%3ALATN%40ISO', u'formatTypeId': u'TextFormats%3APLAIN%40okapia.net'}, u'description': {u'text': u'', u'languageTypeId': '639-2%3AENG%40ISO', u'scriptTypeId': '15924%3ALATN%40ISO', u'formatTypeId': u'TextFormats%3APLAIN%40okapia.net'}, u'recordTypeIds': [u'answer-record-type%3Amulti-choice%40ODL.MIT.EDU'], 'bankId': u'assessment.Bank%3A57fe54dccdfc5c3a0bc23b47%40ODL.MIT.EDU', u'choiceIds': [u'57fe61edcdfc5c3a0bc23b49'], u'genusTypeId': 'answer-type%3Aright-answer%40ODL.MIT.EDU', u'assignedBankIds': [u'assessment.Bank%3A57fe54dccdfc5c3a0bc23b47%40ODL.MIT.EDU'], 'type': 'Answer', 'id': 'assessment.Answer%3A57fe660dcdfc5c3a0bc23b4d%40ODL.MIT.EDU'}, {u'displayName': {u'text': u'', u'languageTypeId': '639-2%3AENG%40ISO', u'scriptTypeId': '15924%3ALATN%40ISO', u'formatTypeId': u'TextFormats%3APLAIN%40okapia.net'}, u'description': {u'text': u'', u'languageTypeId': '639-2%3AENG%40ISO', u'scriptTypeId': '15924%3ALATN%40ISO', u'formatTypeId': u'TextFormats%3APLAIN%40okapia.net'}, u'recordTypeIds': [u'answer-record-type%3Amulti-choice%40ODL.MIT.EDU'], 'bankId': u'assessment.Bank%3A57fe54dccdfc5c3a0bc23b47%40ODL.MIT.EDU', u'choiceIds': [u'57fe61edcdfc5c3a0bc23b49'], u'genusTypeId': 'answer-type%3Aright-answer%40ODL.MIT.EDU', u'assignedBankIds': [u'assessment.Bank%3A57fe54dccdfc5c3a0bc23b47%40ODL.MIT.EDU'], 'type': 'Answer', 'id': 'assessment.Answer%3A57fe6655cdfc5c3a0bc23b4f%40ODL.MIT.EDU'}, {u'displayName': {u'text': u'', u'languageTypeId': '639-2%3AENG%40ISO', u'scriptTypeId': '15924%3ALATN%40ISO', u'formatTypeId': u'TextFormats%3APLAIN%40okapia.net'}, u'description': {u'text': u'', u'languageTypeId': '639-2%3AENG%40ISO', u'scriptTypeId': '15924%3ALATN%40ISO', u'formatTypeId': u'TextFormats%3APLAIN%40okapia.net'}, u'recordTypeIds': [u'answer-record-type%3Amulti-choice%40ODL.MIT.EDU'], 'bankId': u'assessment.Bank%3A57fe54dccdfc5c3a0bc23b47%40ODL.MIT.EDU', u'choiceIds': [u'57fe61edcdfc5c3a0bc23b49'], u'genusTypeId': 'answer-type%3Aright-answer%40ODL.MIT.EDU', u'assignedBankIds': [u'assessment.Bank%3A57fe54dccdfc5c3a0bc23b47%40ODL.MIT.EDU'], 'type': 'Answer', 'id': 'assessment.Answer%3A57fe66c9cdfc5c3a0bc23b51%40ODL.MIT.EDU'}, {u'displayName': {u'text': u'', u'languageTypeId': '639-2%3AENG%40ISO', u'scriptTypeId': '15924%3ALATN%40ISO', u'formatTypeId': u'TextFormats%3APLAIN%40okapia.net'}, u'description': {u'text': u'', u'languageTypeId': '639-2%3AENG%40ISO', u'scriptTypeId': '15924%3ALATN%40ISO', u'formatTypeId': u'TextFormats%3APLAIN%40okapia.net'}, u'recordTypeIds': [u'answer-record-type%3Amulti-choice%40ODL.MIT.EDU'], 'bankId': u'assessment.Bank%3A57fe54dccdfc5c3a0bc23b47%40ODL.MIT.EDU', u'choiceIds': [u'57fe61edcdfc5c3a0bc23b49'], u'genusTypeId': 'answer-type%3Aright-answer%40ODL.MIT.EDU', u'assignedBankIds': [u'assessment.Bank%3A57fe54dccdfc5c3a0bc23b47%40ODL.MIT.EDU'], 'type': 'Answer', 'id': 'assessment.Answer%3A57fe6865cdfc5c3a0bc23b53%40ODL.MIT.EDU'}]\n"
     ]
    }
   ],
   "source": [
    "item = bank.get_item(item.ident)\n",
    "print item.get_answers().available()\n",
    "print [a.object_map for a in item.get_answers()]"
   ]
  },
  {
   "cell_type": "markdown",
   "metadata": {},
   "source": [
    "Wait ... where are all the wrong `answers`? There should be 2x the number of times you ran the block, `answers` ... and by looking at the `genusTypeId` attributes, it seems like all the `answers` from `get_answers()` are \"right-answer\" types.\n",
    "\n",
    "This is because we have defined the `get_answers()` method to only return the \"right\" answers, so the \"wrong\" answers need to be retrieved with a different method, defined by the `item` record extension for wrong answers."
   ]
  },
  {
   "cell_type": "code",
   "execution_count": 28,
   "metadata": {
    "collapsed": false
   },
   "outputs": [
    {
     "name": "stdout",
     "output_type": "stream",
     "text": [
      "4\n",
      "[{u'displayName': {u'text': u'', u'languageTypeId': '639-2%3AENG%40ISO', u'scriptTypeId': '15924%3ALATN%40ISO', u'formatTypeId': u'TextFormats%3APLAIN%40okapia.net'}, u'description': {u'text': u'', u'languageTypeId': '639-2%3AENG%40ISO', u'scriptTypeId': '15924%3ALATN%40ISO', u'formatTypeId': u'TextFormats%3APLAIN%40okapia.net'}, u'recordTypeIds': [u'answer-record-type%3Amulti-choice%40ODL.MIT.EDU'], 'bankId': u'assessment.Bank%3A57fe54dccdfc5c3a0bc23b47%40ODL.MIT.EDU', u'choiceIds': [u'57fe61edcdfc5c3a0bc23b4b'], u'genusTypeId': 'answer-type%3Awrong-answer%40ODL.MIT.EDU', u'assignedBankIds': [u'assessment.Bank%3A57fe54dccdfc5c3a0bc23b47%40ODL.MIT.EDU'], 'type': 'Answer', 'id': 'assessment.Answer%3A57fe660dcdfc5c3a0bc23b4e%40ODL.MIT.EDU'}, {u'displayName': {u'text': u'', u'languageTypeId': '639-2%3AENG%40ISO', u'scriptTypeId': '15924%3ALATN%40ISO', u'formatTypeId': u'TextFormats%3APLAIN%40okapia.net'}, u'description': {u'text': u'', u'languageTypeId': '639-2%3AENG%40ISO', u'scriptTypeId': '15924%3ALATN%40ISO', u'formatTypeId': u'TextFormats%3APLAIN%40okapia.net'}, u'recordTypeIds': [u'answer-record-type%3Amulti-choice%40ODL.MIT.EDU'], 'bankId': u'assessment.Bank%3A57fe54dccdfc5c3a0bc23b47%40ODL.MIT.EDU', u'choiceIds': [u'57fe61edcdfc5c3a0bc23b4b'], u'genusTypeId': 'answer-type%3Awrong-answer%40ODL.MIT.EDU', u'assignedBankIds': [u'assessment.Bank%3A57fe54dccdfc5c3a0bc23b47%40ODL.MIT.EDU'], 'type': 'Answer', 'id': 'assessment.Answer%3A57fe6655cdfc5c3a0bc23b50%40ODL.MIT.EDU'}, {u'displayName': {u'text': u'', u'languageTypeId': '639-2%3AENG%40ISO', u'scriptTypeId': '15924%3ALATN%40ISO', u'formatTypeId': u'TextFormats%3APLAIN%40okapia.net'}, u'description': {u'text': u'', u'languageTypeId': '639-2%3AENG%40ISO', u'scriptTypeId': '15924%3ALATN%40ISO', u'formatTypeId': u'TextFormats%3APLAIN%40okapia.net'}, u'recordTypeIds': [u'answer-record-type%3Amulti-choice%40ODL.MIT.EDU'], 'bankId': u'assessment.Bank%3A57fe54dccdfc5c3a0bc23b47%40ODL.MIT.EDU', u'choiceIds': [u'57fe61edcdfc5c3a0bc23b4b'], u'genusTypeId': 'answer-type%3Awrong-answer%40ODL.MIT.EDU', u'assignedBankIds': [u'assessment.Bank%3A57fe54dccdfc5c3a0bc23b47%40ODL.MIT.EDU'], 'type': 'Answer', 'id': 'assessment.Answer%3A57fe66c9cdfc5c3a0bc23b52%40ODL.MIT.EDU'}, {u'displayName': {u'text': u'', u'languageTypeId': '639-2%3AENG%40ISO', u'scriptTypeId': '15924%3ALATN%40ISO', u'formatTypeId': u'TextFormats%3APLAIN%40okapia.net'}, u'description': {u'text': u'', u'languageTypeId': '639-2%3AENG%40ISO', u'scriptTypeId': '15924%3ALATN%40ISO', u'formatTypeId': u'TextFormats%3APLAIN%40okapia.net'}, u'recordTypeIds': [u'answer-record-type%3Amulti-choice%40ODL.MIT.EDU'], 'bankId': u'assessment.Bank%3A57fe54dccdfc5c3a0bc23b47%40ODL.MIT.EDU', u'choiceIds': [u'57fe61edcdfc5c3a0bc23b4b'], u'genusTypeId': 'answer-type%3Awrong-answer%40ODL.MIT.EDU', u'assignedBankIds': [u'assessment.Bank%3A57fe54dccdfc5c3a0bc23b47%40ODL.MIT.EDU'], 'type': 'Answer', 'id': 'assessment.Answer%3A57fe6865cdfc5c3a0bc23b54%40ODL.MIT.EDU'}]\n"
     ]
    }
   ],
   "source": [
    "print item.get_wrong_answers().available()\n",
    "print [a.object_map for a in item.get_wrong_answers()]"
   ]
  },
  {
   "cell_type": "markdown",
   "metadata": {},
   "source": [
    "There they are!\n",
    "\n",
    "That's a basic overview of `items`. They are very powerful, and to learn more, you can look at the `records` directory that came along with this tutorial."
   ]
  }
 ],
 "metadata": {
  "kernelspec": {
   "display_name": "Python 2",
   "language": "python",
   "name": "python2"
  },
  "language_info": {
   "codemirror_mode": {
    "name": "ipython",
    "version": 2
   },
   "file_extension": ".py",
   "mimetype": "text/x-python",
   "name": "python",
   "nbconvert_exporter": "python",
   "pygments_lexer": "ipython2",
   "version": "2.7.10"
  }
 },
 "nbformat": 4,
 "nbformat_minor": 1
}
