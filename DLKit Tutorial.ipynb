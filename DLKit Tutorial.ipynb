{
 "cells": [
  {
   "cell_type": "markdown",
   "metadata": {
    "collapsed": true
   },
   "source": [
    "# DLKit Overview\n",
    "\n",
    "DLKit is a Python implementation of the OSIDs (www.osid.org).\n",
    "\n",
    "Every service has a catalog object, which houses / contains additional objects. These catalogs help control authorization to the contained objects, and can be arranged hierarchically (with authorizations flowing down).\n",
    "\n",
    "             MIT\n",
    "            /   \\\n",
    "           /     \\\n",
    "         Cole   Jeff  \n",
    "\n",
    "Someone with access to all of MIT could see both Cole's and Jeff's materials, but Cole may not be able to see Jeff's materials.\n",
    "\n",
    "Let's start with a simple example and dig more in depth"
   ]
  },
  {
   "cell_type": "markdown",
   "metadata": {},
   "source": [
    "## Assessment Service\n",
    "\n",
    "In the Assessment Service, the catalog is called a `bank`. `Bank`s contain other objects, called `item`, `assessment`, `assessmentOffered`, `assessmentTaken`, etc. We'll start with `item` and `assessment`."
   ]
  },
  {
   "cell_type": "code",
   "execution_count": null,
   "metadata": {
    "collapsed": true
   },
   "outputs": [],
   "source": []
  }
 ],
 "metadata": {
  "kernelspec": {
   "display_name": "Python 2",
   "language": "python",
   "name": "python2"
  },
  "language_info": {
   "codemirror_mode": {
    "name": "ipython",
    "version": 2
   },
   "file_extension": ".py",
   "mimetype": "text/x-python",
   "name": "python",
   "nbconvert_exporter": "python",
   "pygments_lexer": "ipython2",
   "version": "2.7.10"
  }
 },
 "nbformat": 4,
 "nbformat_minor": 1
}
